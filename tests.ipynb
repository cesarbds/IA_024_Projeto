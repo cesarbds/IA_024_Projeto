{
 "cells": [
  {
   "cell_type": "code",
   "execution_count": 21,
   "metadata": {},
   "outputs": [],
   "source": [
    "import json\n",
    "\n",
    "\n",
    "file_paths = ['objects.json', 'rooms.json', 'agents.json']\n",
    "\n",
    "def load_json(file_path):\n",
    "    with open(file_path, 'r') as file:\n",
    "        return json.load(file)\n",
    "\n",
    "def find_name_in_files(name, file_paths):\n",
    "    for file_path in file_paths:\n",
    "        data = load_json(file_path)\n",
    "        if file_path == 'objects.json':\n",
    "          for item in data['objects']:\n",
    "              item_name = item['name']\n",
    "              if item_name.lower() == name:\n",
    "                  return file_path, item\n",
    "        if file_path == 'rooms.json':\n",
    "          for item in data['rooms']:\n",
    "              item_name = item['name']\n",
    "              if item_name.lower() == name:\n",
    "                  return file_path, item\n",
    "        if file_path == 'agents.json':\n",
    "          item_name = item['name']\n",
    "          for item in data['agents']:\n",
    "              if item_name.lower() == name:\n",
    "                  return file_path, item\n",
    "    return None, None"
   ]
  },
  {
   "cell_type": "code",
   "execution_count": 23,
   "metadata": {},
   "outputs": [
    {
     "name": "stdout",
     "output_type": "stream",
     "text": [
      "True\n"
     ]
    }
   ],
   "source": [
    "file, item = find_name_in_files(\"bed\", file_paths)\n",
    "print(item['resources']['surface'])"
   ]
  },
  {
   "cell_type": "code",
   "execution_count": 25,
   "metadata": {},
   "outputs": [],
   "source": [
    "import random\n",
    "\n",
    "objects = [\"banana\", \"apple\", \"cup\", \"plate\", \"laptop\", \"red_book\", \"green_book\", \"bowl\"]\n",
    "places_1 = [\"dinnertable\", \"smalltable\", \"bed\", \"rack\", \"kitchen-drawer\", \"countertop\"]\n",
    "\n",
    "def generate_phrase(objects, places, n):\n",
    "    if n > len(objects) or n > len(places):\n",
    "        return \"Error: 'n' is larger than the number of available objects or places.\"\n",
    "    \n",
    "    selected_objects = random.sample(objects, n)\n",
    "    selected_places = random.sample(places, n)\n",
    "    \n",
    "    actions = []\n",
    "    for i in range(n):\n",
    "        obj = selected_objects[i]\n",
    "        place = selected_places[i].capitalize()\n",
    "        if i == 0:\n",
    "            actions.append(f\"put the {obj} in the {place}\")\n",
    "        else:\n",
    "            actions.append(f\"then pick the {obj} and put it in the {place}\")\n",
    "    \n",
    "    phrase = \"Can you \" + \", \".join(actions) + \"?\"\n",
    "    return phrase"
   ]
  },
  {
   "cell_type": "code",
   "execution_count": 55,
   "metadata": {},
   "outputs": [
    {
     "name": "stdout",
     "output_type": "stream",
     "text": [
      "Can you put the cup in the Countertop, then pick the plate and put it in the Smalltable, then pick the apple and put it in the Bed?\n"
     ]
    }
   ],
   "source": [
    "print(generate_phrase(objects, places_1, 3))"
   ]
  }
 ],
 "metadata": {
  "kernelspec": {
   "display_name": "Python 3",
   "language": "python",
   "name": "python3"
  },
  "language_info": {
   "codemirror_mode": {
    "name": "ipython",
    "version": 3
   },
   "file_extension": ".py",
   "mimetype": "text/x-python",
   "name": "python",
   "nbconvert_exporter": "python",
   "pygments_lexer": "ipython3",
   "version": "3.10.12"
  }
 },
 "nbformat": 4,
 "nbformat_minor": 2
}
